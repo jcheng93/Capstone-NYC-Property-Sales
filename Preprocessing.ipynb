{
 "cells": [
  {
   "cell_type": "code",
   "execution_count": 12,
   "id": "9dcef236",
   "metadata": {},
   "outputs": [],
   "source": [
    "import pandas as pd\n",
    "from sklearn.model_selection import train_test_split\n",
    "from sklearn.preprocessing import StandardScaler, LabelEncoder, OneHotEncoder\n",
    "import numpy as np\n",
    "\n",
    "filepath = './CleanData/NYC_MLdata.csv'\n",
    "data = pd.read_csv(filepath)\n"
   ]
  },
  {
   "cell_type": "code",
   "execution_count": 13,
   "id": "7aac896b",
   "metadata": {},
   "outputs": [
    {
     "name": "stdout",
     "output_type": "stream",
     "text": [
      "['A' 'B' 'C' 'D' 'R']\n",
      "[0 1 2 3 4]\n",
      "<class 'pandas.core.frame.DataFrame'>\n",
      "RangeIndex: 55742 entries, 0 to 55741\n",
      "Data columns (total 14 columns):\n",
      " #   Column                     Non-Null Count  Dtype  \n",
      "---  ------                     --------------  -----  \n",
      " 0   BOROUGH                    55742 non-null  int64  \n",
      " 1   ZIP CODE                   55742 non-null  float64\n",
      " 2   RESIDENTIAL UNITS          55742 non-null  float64\n",
      " 3   COMMERCIAL UNITS           55742 non-null  float64\n",
      " 4   TOTAL UNITS                55742 non-null  float64\n",
      " 5   LAND SQUARE FEET           55742 non-null  float64\n",
      " 6   GROSS SQUARE FEET          55742 non-null  float64\n",
      " 7   TAX CLASS AT TIME OF SALE  55742 non-null  int64  \n",
      " 8   SALE PRICE                 55742 non-null  int64  \n",
      " 9   SALE PRICE_log             55742 non-null  float64\n",
      " 10  LAND SQUARE FEET_log       55742 non-null  float64\n",
      " 11  GROSS SQUARE FEET_log      55742 non-null  float64\n",
      " 12  BUILDING CLASS             55742 non-null  int32  \n",
      " 13  BUILDING AGE               55742 non-null  int64  \n",
      "dtypes: float64(9), int32(1), int64(4)\n",
      "memory usage: 5.7 MB\n",
      "None\n"
     ]
    }
   ],
   "source": [
    "#Rename column\n",
    "data.rename(columns={'New Building Class Category': 'BUILDING CLASS'}, inplace=True)\n",
    "\n",
    "#Use Label Encoder to transform categories into numbers\n",
    "print(data['BUILDING CLASS'].unique())\n",
    "label_encoder = LabelEncoder()\n",
    "data['BUILDING CLASS'] = label_encoder.fit_transform(data['BUILDING CLASS'])\n",
    "print(data['BUILDING CLASS'].unique())\n",
    "\n",
    "print(data.info())"
   ]
  },
  {
   "cell_type": "code",
   "execution_count": 14,
   "id": "c114da30",
   "metadata": {},
   "outputs": [
    {
     "name": "stdout",
     "output_type": "stream",
     "text": [
      "<class 'pandas.core.frame.DataFrame'>\n",
      "RangeIndex: 55742 entries, 0 to 55741\n",
      "Data columns (total 24 columns):\n",
      " #   Column                       Non-Null Count  Dtype  \n",
      "---  ------                       --------------  -----  \n",
      " 0   ZIP CODE                     55742 non-null  float64\n",
      " 1   RESIDENTIAL UNITS            55742 non-null  float64\n",
      " 2   COMMERCIAL UNITS             55742 non-null  float64\n",
      " 3   TOTAL UNITS                  55742 non-null  float64\n",
      " 4   LAND SQUARE FEET             55742 non-null  float64\n",
      " 5   GROSS SQUARE FEET            55742 non-null  float64\n",
      " 6   SALE PRICE                   55742 non-null  int64  \n",
      " 7   SALE PRICE_log               55742 non-null  float64\n",
      " 8   LAND SQUARE FEET_log         55742 non-null  float64\n",
      " 9   GROSS SQUARE FEET_log        55742 non-null  float64\n",
      " 10  BUILDING AGE                 55742 non-null  int64  \n",
      " 11  BOROUGH_1                    55742 non-null  float64\n",
      " 12  BOROUGH_2                    55742 non-null  float64\n",
      " 13  BOROUGH_3                    55742 non-null  float64\n",
      " 14  BOROUGH_4                    55742 non-null  float64\n",
      " 15  BOROUGH_5                    55742 non-null  float64\n",
      " 16  TAX CLASS AT TIME OF SALE_1  55742 non-null  float64\n",
      " 17  TAX CLASS AT TIME OF SALE_2  55742 non-null  float64\n",
      " 18  TAX CLASS AT TIME OF SALE_4  55742 non-null  float64\n",
      " 19  BUILDING CLASS_0             55742 non-null  float64\n",
      " 20  BUILDING CLASS_1             55742 non-null  float64\n",
      " 21  BUILDING CLASS_2             55742 non-null  float64\n",
      " 22  BUILDING CLASS_3             55742 non-null  float64\n",
      " 23  BUILDING CLASS_4             55742 non-null  float64\n",
      "dtypes: float64(22), int64(2)\n",
      "memory usage: 10.2 MB\n",
      "None\n"
     ]
    }
   ],
   "source": [
    "# Select the categorical columns\n",
    "categorical_columns = ['BOROUGH', 'TAX CLASS AT TIME OF SALE', 'BUILDING CLASS']\n",
    "\n",
    "# Create a new DataFrame with the selected columns\n",
    "data_categorical = data[categorical_columns]\n",
    "\n",
    "# Perform one-hot encoding\n",
    "onehot_encoder = OneHotEncoder(sparse=False)\n",
    "encoded_features = onehot_encoder.fit_transform(data_categorical)\n",
    "\n",
    "# Create a DataFrame from the encoded features\n",
    "encoded_df = pd.DataFrame(encoded_features, columns=onehot_encoder.get_feature_names_out(categorical_columns))\n",
    "\n",
    "# Concatenate the encoded DataFrame with the original data\n",
    "data_encoded = pd.concat([data.drop(columns=categorical_columns), encoded_df], axis=1)\n",
    "\n",
    "# Print the updated DataFrame information\n",
    "print(data_encoded.info())\n"
   ]
  },
  {
   "cell_type": "code",
   "execution_count": 15,
   "id": "d1c8ad92",
   "metadata": {},
   "outputs": [
    {
     "name": "stdout",
     "output_type": "stream",
     "text": [
      "Cross-Validation Scores:\n",
      "[2604614.83731608 2599024.76034581 2822905.0472763  2682220.51429791\n",
      " 2701326.53983896]\n",
      "Mean RMSE: 2682018.33981501\n",
      "R-squared: 0.5560344759287444\n"
     ]
    }
   ],
   "source": [
    "#Splitting data into train/test split\n",
    "\n",
    "from sklearn.model_selection import train_test_split, cross_validate\n",
    "from sklearn.model_selection import cross_val_score\n",
    "from sklearn.metrics import mean_squared_error,r2_score\n",
    "\n",
    "X = data_encoded.drop(columns=['SALE PRICE', 'SALE PRICE_log', 'GROSS SQUARE FEET_log', 'LAND SQUARE FEET_log'])  # Drop the target column from the features\n",
    "y = data_encoded['SALE PRICE']  # Extract the target column\n",
    "\n",
    "X_train, X_test, y_train, y_test = train_test_split(X, y, test_size=0.2, random_state=42)\n",
    "\n",
    "# Perform cross-validation on a linear regression model\n",
    "from sklearn.linear_model import LinearRegression\n",
    "\n",
    "model = LinearRegression()\n",
    "#5 fold cross validation\n",
    "scores = cross_val_score(model, X_train, y_train, cv=5, scoring='neg_mean_squared_error')\n",
    "\n",
    "# Calculate RMSE from negative MSE scores\n",
    "rmse_scores = np.sqrt(-scores)\n",
    "\n",
    "\n",
    "# Print the cross-validation scores\n",
    "print(\"Cross-Validation Scores:\")\n",
    "print(rmse_scores)\n",
    "print(\"Mean RMSE:\", rmse_scores.mean())\n",
    "\n",
    "\n",
    "# Calculate R-squared\n",
    "r2 = r2_score(y_test, y_pred)\n",
    "print('R-squared:', r2)\n"
   ]
  },
  {
   "cell_type": "code",
   "execution_count": 16,
   "id": "7143fbc4",
   "metadata": {},
   "outputs": [
    {
     "name": "stdout",
     "output_type": "stream",
     "text": [
      "RMSE: 2690560.4393006493\n",
      "R-squared: 0.11766180649612568\n"
     ]
    }
   ],
   "source": [
    "#Try scaling X_train using standardscalar\n",
    "\n",
    "from sklearn.preprocessing import StandardScaler\n",
    "from sklearn.pipeline import make_pipeline\n",
    "\n",
    "model = LinearRegression()\n",
    "\n",
    "scaler = StandardScaler()\n",
    "X_train_scaled = scaler.fit_transform(X_train)\n",
    "X_test_scaled = scaler.transform(X_test)\n",
    "\n",
    "model.fit(X_train_scaled, y_train)\n",
    "\n",
    "y_pred = model.predict(X_test_scaled)\n",
    "\n",
    "rmse = np.sqrt(mean_squared_error(y_test, y_pred))\n",
    "print('RMSE:', rmse)\n",
    "\n",
    "# Calculate R-squared\n",
    "r2 = r2_score(y_test, y_pred)\n",
    "print('R-squared:', r2)\n"
   ]
  },
  {
   "cell_type": "code",
   "execution_count": 17,
   "id": "9f4cf8cf",
   "metadata": {},
   "outputs": [
    {
     "name": "stdout",
     "output_type": "stream",
     "text": [
      "RMSE: 2567104.756271735\n",
      "R-squared: 0.19677585112650975\n"
     ]
    }
   ],
   "source": [
    "#Testing for polynomial regression\n",
    "from sklearn.preprocessing import PolynomialFeatures\n",
    "\n",
    "\n",
    "X = data_encoded.drop(columns=['SALE PRICE', 'SALE PRICE_log', 'GROSS SQUARE FEET_log', 'LAND SQUARE FEET_log'])  # Drop the target column from the features\n",
    "y = data_encoded['SALE PRICE']  # Extract the target column\n",
    "\n",
    "poly_features = PolynomialFeatures(degree=2)  # Set the degree of the polynomial\n",
    "X_poly = poly_features.fit_transform(X)  # Transform the input features to polynomial features\n",
    "\n",
    "X_train, X_test, y_train, y_test = train_test_split(X_poly, y, test_size=0.2, random_state=42)\n",
    "\n",
    "model = LinearRegression()\n",
    "model.fit(X_train, y_train)\n",
    "\n",
    "y_pred = model.predict(X_test)\n",
    "rmse = np.sqrt(mean_squared_error(y_test, y_pred))\n",
    "print('RMSE:', rmse)\n",
    "\n",
    "\n",
    "# Calculate R-squared\n",
    "r2 = r2_score(y_test, y_pred)\n",
    "print('R-squared:', r2)\n",
    "\n",
    "#slightly better but not much than linear model."
   ]
  },
  {
   "cell_type": "code",
   "execution_count": null,
   "id": "3994198d",
   "metadata": {},
   "outputs": [],
   "source": [
    "\n",
    "\n",
    "\n"
   ]
  },
  {
   "cell_type": "code",
   "execution_count": 18,
   "id": "9e9002cf",
   "metadata": {},
   "outputs": [
    {
     "name": "stdout",
     "output_type": "stream",
     "text": [
      "Root Mean Squared Error: 1723583.4582745591\n",
      "R-squared: 0.6379119357770606\n",
      "                        Feature  Importance\n",
      "5             GROSS SQUARE FEET    0.282606\n",
      "0                      ZIP CODE    0.189567\n",
      "4              LAND SQUARE FEET    0.157737\n",
      "6                  BUILDING AGE    0.123315\n",
      "3                   TOTAL UNITS    0.087493\n",
      "1             RESIDENTIAL UNITS    0.077107\n",
      "18             BUILDING CLASS_3    0.025085\n",
      "9                     BOROUGH_3    0.012009\n",
      "15             BUILDING CLASS_0    0.009014\n",
      "2              COMMERCIAL UNITS    0.008907\n",
      "19             BUILDING CLASS_4    0.005763\n",
      "10                    BOROUGH_4    0.005516\n",
      "13  TAX CLASS AT TIME OF SALE_2    0.004892\n",
      "14  TAX CLASS AT TIME OF SALE_4    0.003200\n",
      "17             BUILDING CLASS_2    0.002290\n",
      "12  TAX CLASS AT TIME OF SALE_1    0.001985\n",
      "8                     BOROUGH_2    0.001860\n",
      "7                     BOROUGH_1    0.000827\n",
      "16             BUILDING CLASS_1    0.000753\n",
      "11                    BOROUGH_5    0.000073\n",
      "The feature with the highest variance is: GROSS SQUARE FEET\n"
     ]
    }
   ],
   "source": [
    "#Random Forest + Cross Validation\n",
    "\n",
    "from sklearn.model_selection import cross_val_score\n",
    "from sklearn.ensemble import RandomForestRegressor\n",
    "\n",
    "X = data_encoded.drop(columns=['SALE PRICE', 'SALE PRICE_log', 'GROSS SQUARE FEET_log', 'LAND SQUARE FEET_log'])\n",
    "y = data_encoded['SALE PRICE']\n",
    "\n",
    "# Split the data into train and test sets\n",
    "X_train, X_test, y_train, y_test = train_test_split(X, y, test_size=0.2, random_state=42)\n",
    "\n",
    "model = RandomForestRegressor()\n",
    "\n",
    "# Perform cross-validation\n",
    "#scores = cross_val_score(model, X, y, cv=10, scoring='neg_mean_squared_error')\n",
    "\n",
    "model.fit(X_train, y_train)\n",
    "y_pred = model.predict(X_test)\n",
    "mse = mean_squared_error(y_test, y_pred)\n",
    "\n",
    "# Calculate the RMSE\n",
    "rmse = np.sqrt(mse)\n",
    "print(\"Root Mean Squared Error:\", rmse)\n",
    "\n",
    "\n",
    "# Calculate R-squared\n",
    "r2 = r2_score(y_test, y_pred)\n",
    "print('R-squared:', r2)\n",
    "\n",
    "\n",
    "# Retrieve the feature importances\n",
    "importances = model.feature_importances_\n",
    "\n",
    "# Create a dataframe to display the feature importances\n",
    "feature_importances = pd.DataFrame({'Feature': X_train.columns, 'Importance': importances})\n",
    "feature_importances.sort_values(by='Importance', ascending=False, inplace=True)\n",
    "\n",
    "# Print the feature importances\n",
    "print(feature_importances)\n",
    "\n",
    "# Find the feature with the highest variance\n",
    "highest_variance_feature = feature_importances['Feature'].iloc[0]\n",
    "print(f\"The feature with the highest variance is: {highest_variance_feature}\")\n",
    "\n",
    "\n"
   ]
  },
  {
   "cell_type": "code",
   "execution_count": 22,
   "id": "03b045be",
   "metadata": {},
   "outputs": [
    {
     "name": "stdout",
     "output_type": "stream",
     "text": [
      "XGBoost MSE: 1773555.3341575922\n",
      "R-squared: 0.6166115192734376\n"
     ]
    }
   ],
   "source": [
    "#Training XGBoost Model\n",
    "import xgboost as xgb\n",
    "\n",
    "# Create an XGBoost Regressor model\n",
    "xgb_model = xgb.XGBRegressor()\n",
    "\n",
    "# Fit the model on the training data\n",
    "xgb_model.fit(X_train, y_train)\n",
    "\n",
    "# Make predictions on the test data\n",
    "y_pred = xgb_model.predict(X_test)\n",
    "\n",
    "# Calculate the mean squared error\n",
    "rmse = np.sqrt(mean_squared_error(y_test, y_pred))\n",
    "print(\"XGBoost MSE:\", rmse)\n",
    "\n",
    "\n",
    "# Calculate R-squared\n",
    "r2 = r2_score(y_test, y_pred)\n",
    "print('R-squared:', r2)\n",
    "\n",
    "#XGBOOst produces result as good as Random Forest"
   ]
  },
  {
   "cell_type": "code",
   "execution_count": 20,
   "id": "fedd74d5",
   "metadata": {},
   "outputs": [
    {
     "name": "stdout",
     "output_type": "stream",
     "text": [
      "RMSE: 1908533.7139365417\n",
      "R-squared: 0.5560344759287444\n"
     ]
    }
   ],
   "source": [
    "from sklearn.neighbors import KNeighborsRegressor\n",
    "from sklearn.preprocessing import StandardScaler\n",
    "\n",
    "\n",
    "# Create the KNN regression model\n",
    "model = KNeighborsRegressor(n_neighbors=5)\n",
    "\n",
    "# Create the StandardScaler\n",
    "scaler = StandardScaler()\n",
    "\n",
    "# Scale the features\n",
    "X_train_scaled = scaler.fit_transform(X_train)\n",
    "X_test_scaled = scaler.transform(X_test)\n",
    "\n",
    "# Fit the model on the scaled training data\n",
    "model.fit(X_train_scaled, y_train)\n",
    "\n",
    "# Make predictions on the scaled test data\n",
    "y_pred = model.predict(X_test_scaled)\n",
    "\n",
    "# Calculate the RMSE\n",
    "rmse = np.sqrt(mean_squared_error(y_test, y_pred))\n",
    "print('RMSE:', rmse)\n",
    "\n",
    "\n",
    "\n",
    "# Calculate R-squared\n",
    "r2 = r2_score(y_test, y_pred)\n",
    "print('R-squared:', r2)\n"
   ]
  },
  {
   "cell_type": "code",
   "execution_count": null,
   "id": "f1e57370",
   "metadata": {
    "scrolled": true
   },
   "outputs": [],
   "source": [
    "#After comparing the RMSE and R-squared of Linear Regression, Polynomial Regression, Random Forest, XGBoost and KNNRegressor\n",
    "# The optimal method producing the smallest RMSE and highest R-squared is Random Forest Regressor."
   ]
  },
  {
   "cell_type": "code",
   "execution_count": null,
   "id": "ccfdbdb5",
   "metadata": {},
   "outputs": [],
   "source": []
  },
  {
   "cell_type": "code",
   "execution_count": null,
   "id": "92ef28d9",
   "metadata": {},
   "outputs": [],
   "source": [
    "\n",
    "\n",
    "\n"
   ]
  },
  {
   "cell_type": "code",
   "execution_count": null,
   "id": "1c9fd10f",
   "metadata": {},
   "outputs": [],
   "source": []
  },
  {
   "cell_type": "code",
   "execution_count": null,
   "id": "ca987d48",
   "metadata": {},
   "outputs": [],
   "source": []
  },
  {
   "cell_type": "code",
   "execution_count": null,
   "id": "d9cb503e",
   "metadata": {},
   "outputs": [],
   "source": []
  },
  {
   "cell_type": "code",
   "execution_count": null,
   "id": "79c735c8",
   "metadata": {},
   "outputs": [],
   "source": [
    "\n"
   ]
  }
 ],
 "metadata": {
  "kernelspec": {
   "display_name": "Python 3 (ipykernel)",
   "language": "python",
   "name": "python3"
  },
  "language_info": {
   "codemirror_mode": {
    "name": "ipython",
    "version": 3
   },
   "file_extension": ".py",
   "mimetype": "text/x-python",
   "name": "python",
   "nbconvert_exporter": "python",
   "pygments_lexer": "ipython3",
   "version": "3.9.13"
  }
 },
 "nbformat": 4,
 "nbformat_minor": 5
}
